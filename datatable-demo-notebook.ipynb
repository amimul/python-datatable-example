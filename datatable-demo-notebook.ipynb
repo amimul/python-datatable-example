{
  "nbformat": 4,
  "nbformat_minor": 0,
  "metadata": {
    "colab": {
      "name": "datatable_demo.ipynb",
      "provenance": [],
      "collapsed_sections": []
    },
    "kernelspec": {
      "name": "python3",
      "display_name": "Python 3"
    }
  },
  "cells": [
    {
      "cell_type": "code",
      "metadata": {
        "id": "ol8baOImEksK",
        "colab_type": "code",
        "outputId": "873e0676-9ab3-46ec-ff56-0947f752ed46",
        "colab": {
          "base_uri": "https://localhost:8080/",
          "height": 35
        }
      },
      "source": [
        "from google.colab import drive\n",
        "drive.mount('/content/drive')"
      ],
      "execution_count": 2,
      "outputs": [
        {
          "output_type": "stream",
          "text": [
            "Drive already mounted at /content/drive; to attempt to forcibly remount, call drive.mount(\"/content/drive\", force_remount=True).\n"
          ],
          "name": "stdout"
        }
      ]
    },
    {
      "cell_type": "code",
      "metadata": {
        "id": "bQMHjokZErbI",
        "colab_type": "code",
        "colab": {}
      },
      "source": [
        "file_name = \"/content/drive/My Drive/data/data.csv\""
      ],
      "execution_count": 0,
      "outputs": []
    },
    {
      "cell_type": "code",
      "metadata": {
        "id": "OSltTgTsEu-i",
        "colab_type": "code",
        "colab": {}
      },
      "source": [
        "import os"
      ],
      "execution_count": 0,
      "outputs": []
    },
    {
      "cell_type": "code",
      "metadata": {
        "id": "3-yvcJbbEx-E",
        "colab_type": "code",
        "outputId": "90a94b1f-0b4e-47e3-a865-337d381970d5",
        "colab": {
          "base_uri": "https://localhost:8080/",
          "height": 35
        }
      },
      "source": [
        "print (\"Size of file is {} MB\".format(os.path.getsize(file_name) >> 20))"
      ],
      "execution_count": 5,
      "outputs": [
        {
          "output_type": "stream",
          "text": [
            "Size of file is 271 MB\n"
          ],
          "name": "stdout"
        }
      ]
    },
    {
      "cell_type": "code",
      "metadata": {
        "id": "qdGooSpSEzZV",
        "colab_type": "code",
        "colab": {
          "base_uri": "https://localhost:8080/",
          "height": 280
        },
        "outputId": "df0965b9-2e78-4ede-fdd6-80bc8a2f432a"
      },
      "source": [
        "!pip install datatable"
      ],
      "execution_count": 6,
      "outputs": [
        {
          "output_type": "stream",
          "text": [
            "Collecting datatable\n",
            "\u001b[?25l  Downloading https://files.pythonhosted.org/packages/3a/e6/55c464201cdfe62e5cb39744d1d04f9d6cf369053edf28f3e7971ec80e63/datatable-0.10.1-cp36-cp36m-manylinux2010_x86_64.whl (59.9MB)\n",
            "\u001b[K     |████████████████████████████████| 59.9MB 67kB/s \n",
            "\u001b[?25hCollecting typesentry>=0.2.6\n",
            "  Downloading https://files.pythonhosted.org/packages/0f/37/3757249f05aac8a08d9742f9a35c17ab6895eb916b83bbf3a23eae6842b2/typesentry-0.2.7-py2.py3-none-any.whl\n",
            "Collecting blessed\n",
            "\u001b[?25l  Downloading https://files.pythonhosted.org/packages/1b/4c/0bc6f7a224d9a00d771598278bbbf86d217e208251e4b27d85c793362059/blessed-1.17.0-py2.py3-none-any.whl (74kB)\n",
            "\u001b[K     |████████████████████████████████| 81kB 8.1MB/s \n",
            "\u001b[?25hCollecting colorama>=0.3\n",
            "  Downloading https://files.pythonhosted.org/packages/c9/dc/45cdef1b4d119eb96316b3117e6d5708a08029992b2fee2c143c7a0a5cc5/colorama-0.4.3-py2.py3-none-any.whl\n",
            "Requirement already satisfied: wcwidth>=0.1.4 in /usr/local/lib/python3.6/dist-packages (from blessed->datatable) (0.1.8)\n",
            "Requirement already satisfied: six>=1.9.0 in /usr/local/lib/python3.6/dist-packages (from blessed->datatable) (1.12.0)\n",
            "Installing collected packages: colorama, typesentry, blessed, datatable\n",
            "Successfully installed blessed-1.17.0 colorama-0.4.3 datatable-0.10.1 typesentry-0.2.7\n"
          ],
          "name": "stdout"
        }
      ]
    },
    {
      "cell_type": "code",
      "metadata": {
        "id": "xj82zl1WE9XO",
        "colab_type": "code",
        "colab": {}
      },
      "source": [
        "import time\n",
        "import numpy as np\n",
        "import pandas as pd\n",
        "import datatable as dt"
      ],
      "execution_count": 0,
      "outputs": []
    },
    {
      "cell_type": "markdown",
      "metadata": {
        "id": "5NFrR_xVFKLh",
        "colab_type": "text"
      },
      "source": [
        "# Read Time Comparision"
      ]
    },
    {
      "cell_type": "code",
      "metadata": {
        "id": "a-rPeDd6FFu8",
        "colab_type": "code",
        "outputId": "f93029da-adc8-4f32-8b4a-3ca71255cae4",
        "colab": {
          "base_uri": "https://localhost:8080/",
          "height": 35
        }
      },
      "source": [
        "s = time.time()\n",
        "df_pandas = pd.read_csv(file_name)\n",
        "e = time.time()\n",
        "pd_time = e - s\n",
        "print(\"Pandas Loading Time = {}\".format(pd_time))"
      ],
      "execution_count": 8,
      "outputs": [
        {
          "output_type": "stream",
          "text": [
            "Pandas Loading Time = 6.62095832824707\n"
          ],
          "name": "stdout"
        }
      ]
    },
    {
      "cell_type": "code",
      "metadata": {
        "id": "F1BvNVAIFNow",
        "colab_type": "code",
        "outputId": "556348c2-77bb-4e8c-ce5e-7ab520577737",
        "colab": {
          "base_uri": "https://localhost:8080/",
          "height": 35
        }
      },
      "source": [
        "s = time.time()\n",
        "df_datatable = dt.fread(file_name)\n",
        "e = time.time()\n",
        "datatable_time = e - s \n",
        "print(\"DataTable Loading Time = {}\".format(datatable_time))"
      ],
      "execution_count": 9,
      "outputs": [
        {
          "output_type": "stream",
          "text": [
            "DataTable Loading Time = 1.7574362754821777\n"
          ],
          "name": "stdout"
        }
      ]
    },
    {
      "cell_type": "code",
      "metadata": {
        "id": "Md1NOrNnmjXe",
        "colab_type": "code",
        "outputId": "38adc387-1282-41b3-c8f5-eaa5b062551f",
        "colab": {
          "base_uri": "https://localhost:8080/",
          "height": 35
        }
      },
      "source": [
        "pd_time > datatable_time"
      ],
      "execution_count": 10,
      "outputs": [
        {
          "output_type": "execute_result",
          "data": {
            "text/plain": [
              "True"
            ]
          },
          "metadata": {
            "tags": []
          },
          "execution_count": 10
        }
      ]
    },
    {
      "cell_type": "code",
      "metadata": {
        "id": "T3sKCFw8mmpg",
        "colab_type": "code",
        "outputId": "883b2f7a-8154-4d9b-fa85-a958c24838b8",
        "colab": {
          "base_uri": "https://localhost:8080/",
          "height": 35
        }
      },
      "source": [
        "pd_time / datatable_time"
      ],
      "execution_count": 11,
      "outputs": [
        {
          "output_type": "execute_result",
          "data": {
            "text/plain": [
              "3.7673959622977033"
            ]
          },
          "metadata": {
            "tags": []
          },
          "execution_count": 11
        }
      ]
    },
    {
      "cell_type": "markdown",
      "metadata": {
        "id": "EfUZS5h3-I1V",
        "colab_type": "text"
      },
      "source": [
        "# Read and Convert to Pandas"
      ]
    },
    {
      "cell_type": "code",
      "metadata": {
        "id": "0o2gmQFn9txE",
        "colab_type": "code",
        "outputId": "ab40ddb5-7bab-49b3-8358-f7faf6728ab6",
        "colab": {
          "base_uri": "https://localhost:8080/",
          "height": 35
        }
      },
      "source": [
        "s = time.time()\n",
        "df_datatable = dt.fread(file_name)\n",
        "df_converted_pandas = df_datatable.to_pandas()\n",
        "e = time.time()\n",
        "datatable_time = e - s \n",
        "print(\"Pandas Df from DataTable Loading Time = {}\".format(datatable_time))"
      ],
      "execution_count": 12,
      "outputs": [
        {
          "output_type": "stream",
          "text": [
            "Pandas Df from DataTable Loading Time = 6.498980522155762\n"
          ],
          "name": "stdout"
        }
      ]
    },
    {
      "cell_type": "code",
      "metadata": {
        "id": "SfgU7cds9t8T",
        "colab_type": "code",
        "outputId": "939cadea-943a-4152-86b4-b53246802e4d",
        "colab": {
          "base_uri": "https://localhost:8080/",
          "height": 35
        }
      },
      "source": [
        "pd_time / datatable_time"
      ],
      "execution_count": 13,
      "outputs": [
        {
          "output_type": "execute_result",
          "data": {
            "text/plain": [
              "1.0187687600655937"
            ]
          },
          "metadata": {
            "tags": []
          },
          "execution_count": 13
        }
      ]
    },
    {
      "cell_type": "code",
      "metadata": {
        "id": "XWaNT7MgE_sG",
        "colab_type": "code",
        "colab": {}
      },
      "source": [
        ""
      ],
      "execution_count": 0,
      "outputs": []
    },
    {
      "cell_type": "code",
      "metadata": {
        "id": "XP1sSLJp-2IW",
        "colab_type": "code",
        "outputId": "24fc4bc9-7c0c-4372-c81a-62b059e4e0c6",
        "colab": {
          "base_uri": "https://localhost:8080/",
          "height": 1000
        }
      },
      "source": [
        "dir(df_datatable)"
      ],
      "execution_count": 14,
      "outputs": [
        {
          "output_type": "execute_result",
          "data": {
            "text/plain": [
              "['__class__',\n",
              " '__copy__',\n",
              " '__deepcopy__',\n",
              " '__delattr__',\n",
              " '__delitem__',\n",
              " '__dir__',\n",
              " '__doc__',\n",
              " '__eq__',\n",
              " '__format__',\n",
              " '__ge__',\n",
              " '__getattribute__',\n",
              " '__getitem__',\n",
              " '__getstate__',\n",
              " '__gt__',\n",
              " '__hash__',\n",
              " '__init__',\n",
              " '__init_subclass__',\n",
              " '__iter__',\n",
              " '__le__',\n",
              " '__lt__',\n",
              " '__ne__',\n",
              " '__new__',\n",
              " '__reduce__',\n",
              " '__reduce_ex__',\n",
              " '__repr__',\n",
              " '__reversed__',\n",
              " '__setattr__',\n",
              " '__setitem__',\n",
              " '__setstate__',\n",
              " '__sizeof__',\n",
              " '__str__',\n",
              " '__subclasshook__',\n",
              " '_repr_html_',\n",
              " '_repr_pretty_',\n",
              " 'cbind',\n",
              " 'colindex',\n",
              " 'copy',\n",
              " 'countna',\n",
              " 'countna1',\n",
              " 'export_names',\n",
              " 'head',\n",
              " 'key',\n",
              " 'keys',\n",
              " 'ltypes',\n",
              " 'materialize',\n",
              " 'max',\n",
              " 'max1',\n",
              " 'mean',\n",
              " 'mean1',\n",
              " 'min',\n",
              " 'min1',\n",
              " 'mode',\n",
              " 'mode1',\n",
              " 'names',\n",
              " 'ncols',\n",
              " 'ndims',\n",
              " 'nmodal',\n",
              " 'nmodal1',\n",
              " 'nrows',\n",
              " 'nunique',\n",
              " 'nunique1',\n",
              " 'rbind',\n",
              " 'replace',\n",
              " 'sd',\n",
              " 'sd1',\n",
              " 'shape',\n",
              " 'sort',\n",
              " 'stype',\n",
              " 'stypes',\n",
              " 'sum',\n",
              " 'sum1',\n",
              " 'tail',\n",
              " 'to_csv',\n",
              " 'to_dict',\n",
              " 'to_jay',\n",
              " 'to_list',\n",
              " 'to_numpy',\n",
              " 'to_pandas',\n",
              " 'to_tuples',\n",
              " 'view']"
            ]
          },
          "metadata": {
            "tags": []
          },
          "execution_count": 14
        }
      ]
    },
    {
      "cell_type": "markdown",
      "metadata": {
        "id": "8sTJehR3AEof",
        "colab_type": "text"
      },
      "source": [
        "# Sorting"
      ]
    },
    {
      "cell_type": "code",
      "metadata": {
        "id": "acEsEjbS-2Ni",
        "colab_type": "code",
        "outputId": "06d55649-dd34-4d33-e4a1-01a79258dc5c",
        "colab": {
          "base_uri": "https://localhost:8080/",
          "height": 35
        }
      },
      "source": [
        "s = time.time()\n",
        "df_pandas.sort_values(by='event_time')\n",
        "e = time.time()\n",
        "pd_time = e - s\n",
        "print(\"Pandas Sorting Time = {}\".format(pd_time))"
      ],
      "execution_count": 15,
      "outputs": [
        {
          "output_type": "stream",
          "text": [
            "Pandas Sorting Time = 5.017106533050537\n"
          ],
          "name": "stdout"
        }
      ]
    },
    {
      "cell_type": "code",
      "metadata": {
        "id": "KcadXuV0AK9M",
        "colab_type": "code",
        "outputId": "d0db0375-737b-4ad4-d4fd-f18aef42095f",
        "colab": {
          "base_uri": "https://localhost:8080/",
          "height": 35
        }
      },
      "source": [
        "s = time.time()\n",
        "df_datatable.sort('event_time')\n",
        "e = time.time()\n",
        "datatable_time = e - s\n",
        "print(\"DataTable Sorting Time = {}\".format(datatable_time))"
      ],
      "execution_count": 16,
      "outputs": [
        {
          "output_type": "stream",
          "text": [
            "DataTable Sorting Time = 0.09453129768371582\n"
          ],
          "name": "stdout"
        }
      ]
    },
    {
      "cell_type": "code",
      "metadata": {
        "id": "-V6V56ySALEl",
        "colab_type": "code",
        "outputId": "c99bec6d-69b1-45f4-dd89-fbadb9f03057",
        "colab": {
          "base_uri": "https://localhost:8080/",
          "height": 35
        }
      },
      "source": [
        "pd_time / datatable_time"
      ],
      "execution_count": 17,
      "outputs": [
        {
          "output_type": "execute_result",
          "data": {
            "text/plain": [
              "53.073496883929856"
            ]
          },
          "metadata": {
            "tags": []
          },
          "execution_count": 17
        }
      ]
    },
    {
      "cell_type": "markdown",
      "metadata": {
        "id": "WFlhMH2Zm0ZZ",
        "colab_type": "text"
      },
      "source": [
        "# Null Value Time Check"
      ]
    },
    {
      "cell_type": "code",
      "metadata": {
        "id": "Ih24ntw3mvxm",
        "colab_type": "code",
        "outputId": "ed62fcc6-15fe-41ed-ffe2-d2cb4134ecf2",
        "colab": {
          "base_uri": "https://localhost:8080/",
          "height": 52
        }
      },
      "source": [
        "s = time.time()\n",
        "t_pandas = len(df_pandas[\"event_time\"]) - df_pandas[\"event_time\"].count()\n",
        "print (\"Total Null Values = {} \".format(t_pandas))\n",
        "e = time.time()\n",
        "pd_time = e - s\n",
        "print(\"Pandas Null Time Check = {}\".format(pd_time))"
      ],
      "execution_count": 18,
      "outputs": [
        {
          "output_type": "stream",
          "text": [
            "Total Null Values = 0 \n",
            "Pandas Null Time Check = 0.0196835994720459\n"
          ],
          "name": "stdout"
        }
      ]
    },
    {
      "cell_type": "code",
      "metadata": {
        "id": "wHGVbF9rmv37",
        "colab_type": "code",
        "outputId": "d5075060-ae77-4950-ffb5-7291f221b003",
        "colab": {
          "base_uri": "https://localhost:8080/",
          "height": 139
        }
      },
      "source": [
        "s = time.time()\n",
        "t_datatable = df_datatable[\"event_time\"].countna()\n",
        "print (\"Total Null Values = {} \".format(t_datatable))\n",
        "e = time.time()\n",
        "datatable_time = e - s \n",
        "print(\"Datatable Null Time Check = {}\".format(datatable_time))"
      ],
      "execution_count": 19,
      "outputs": [
        {
          "output_type": "stream",
          "text": [
            "Total Null Values =    | event_time\n",
            "-- + ----------\n",
            " 0 |          0\n",
            "\n",
            "[1 row x 1 column]\n",
            " \n",
            "Datatable Null Time Check = 0.002084016799926758\n"
          ],
          "name": "stdout"
        }
      ]
    },
    {
      "cell_type": "code",
      "metadata": {
        "id": "E6b3X9IBnFOi",
        "colab_type": "code",
        "outputId": "1e28916a-a797-429d-cd9e-84c4d8a77b3f",
        "colab": {
          "base_uri": "https://localhost:8080/",
          "height": 35
        }
      },
      "source": [
        "pd_time > datatable_time"
      ],
      "execution_count": 20,
      "outputs": [
        {
          "output_type": "execute_result",
          "data": {
            "text/plain": [
              "True"
            ]
          },
          "metadata": {
            "tags": []
          },
          "execution_count": 20
        }
      ]
    },
    {
      "cell_type": "code",
      "metadata": {
        "id": "ZgNywGBAmv-T",
        "colab_type": "code",
        "outputId": "19299f2b-9d11-4930-9e89-f36b02423695",
        "colab": {
          "base_uri": "https://localhost:8080/",
          "height": 35
        }
      },
      "source": [
        "pd_time / datatable_time"
      ],
      "execution_count": 21,
      "outputs": [
        {
          "output_type": "execute_result",
          "data": {
            "text/plain": [
              "9.445029172863517"
            ]
          },
          "metadata": {
            "tags": []
          },
          "execution_count": 21
        }
      ]
    },
    {
      "cell_type": "markdown",
      "metadata": {
        "id": "F-XwkURQFk1e",
        "colab_type": "text"
      },
      "source": [
        "# Mean Value Time Comparision"
      ]
    },
    {
      "cell_type": "code",
      "metadata": {
        "id": "CUar8CV7FVis",
        "colab_type": "code",
        "outputId": "4552dc6e-9832-4945-8058-2ee2b13de091",
        "colab": {
          "base_uri": "https://localhost:8080/",
          "height": 52
        }
      },
      "source": [
        "s = time.time()\n",
        "max_pandas = df_pandas[\"event_time\"].mean()\n",
        "e = time.time()\n",
        "pd_time = e - s\n",
        "print (\"Mean value in Pandas Dataframe = {}\".format(max_pandas))\n",
        "print(\"Pandas Mean Value Calculation Time = {}\".format(pd_time))"
      ],
      "execution_count": 22,
      "outputs": [
        {
          "output_type": "stream",
          "text": [
            "Mean value in Pandas Dataframe = 501.0634608268819\n",
            "Pandas Mean Value Calculation Time = 0.015233993530273438\n"
          ],
          "name": "stdout"
        }
      ]
    },
    {
      "cell_type": "code",
      "metadata": {
        "id": "w2aPRFhGFoan",
        "colab_type": "code",
        "outputId": "50df0169-0673-4ff3-85a1-8683299a4e15",
        "colab": {
          "base_uri": "https://localhost:8080/",
          "height": 139
        }
      },
      "source": [
        "s = time.time()\n",
        "max_pandas = df_datatable[\"event_time\"].mean()\n",
        "e = time.time()\n",
        "datatable_time = e-s\n",
        "print (\"Mean value in DataTable Dataframe = {}\".format(max_pandas))\n",
        "print(\"DataTable Mean Value Calculation Time = {}\".format(datatable_time))"
      ],
      "execution_count": 23,
      "outputs": [
        {
          "output_type": "stream",
          "text": [
            "Mean value in DataTable Dataframe =    | event_time\n",
            "-- + ----------\n",
            " 0 |    501.063\n",
            "\n",
            "[1 row x 1 column]\n",
            "\n",
            "DataTable Mean Value Calculation Time = 0.05787205696105957\n"
          ],
          "name": "stdout"
        }
      ]
    },
    {
      "cell_type": "code",
      "metadata": {
        "id": "B3939-XqGttc",
        "colab_type": "code",
        "outputId": "739e5eae-9bd6-4b11-a044-043d11700cfb",
        "colab": {
          "base_uri": "https://localhost:8080/",
          "height": 35
        }
      },
      "source": [
        "pd_time > datatable_time"
      ],
      "execution_count": 24,
      "outputs": [
        {
          "output_type": "execute_result",
          "data": {
            "text/plain": [
              "False"
            ]
          },
          "metadata": {
            "tags": []
          },
          "execution_count": 24
        }
      ]
    },
    {
      "cell_type": "code",
      "metadata": {
        "id": "L8m41YRCBQ-A",
        "colab_type": "code",
        "outputId": "54e03b35-b4c7-46d5-88a5-ad120aa547d8",
        "colab": {
          "base_uri": "https://localhost:8080/",
          "height": 35
        }
      },
      "source": [
        "pd_time / datatable_time"
      ],
      "execution_count": 25,
      "outputs": [
        {
          "output_type": "execute_result",
          "data": {
            "text/plain": [
              "0.26323573638524633"
            ]
          },
          "metadata": {
            "tags": []
          },
          "execution_count": 25
        }
      ]
    },
    {
      "cell_type": "code",
      "metadata": {
        "id": "pgcGnRprGt12",
        "colab_type": "code",
        "colab": {}
      },
      "source": [
        ""
      ],
      "execution_count": 0,
      "outputs": []
    }
  ]
}